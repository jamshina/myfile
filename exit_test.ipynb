{
  "nbformat": 4,
  "nbformat_minor": 0,
  "metadata": {
    "colab": {
      "provenance": []
    },
    "kernelspec": {
      "name": "python3",
      "display_name": "Python 3"
    },
    "language_info": {
      "name": "python"
    }
  },
  "cells": [
    {
      "cell_type": "code",
      "execution_count": null,
      "metadata": {
        "id": "ZAoXzzwXmsSJ"
      },
      "outputs": [],
      "source": [
        "import pandas as pd\n",
        "import numpy as np\n",
        "import matplotlib.pyplot as plt\n",
        "import seaborn as sns"
      ]
    },
    {
      "cell_type": "code",
      "source": [
        "data=pd.read_csv('train_exit.csv')"
      ],
      "metadata": {
        "id": "aJK0nKkjnA02"
      },
      "execution_count": null,
      "outputs": []
    },
    {
      "cell_type": "code",
      "source": [
        "# read the head function\n",
        "data.head()"
      ],
      "metadata": {
        "colab": {
          "base_uri": "https://localhost:8080/",
          "height": 307
        },
        "id": "HlENzlzUn5ih",
        "outputId": "ee2ac1cc-19a3-4650-c3f9-76984e352ff8"
      },
      "execution_count": null,
      "outputs": [
        {
          "output_type": "execute_result",
          "data": {
            "text/plain": [
              "    player_id                 name  age gender    country height  weight  \\\n",
              "0   PLID_4964           Keva Horan   23      M    Ukraine    6'2  176lbs   \n",
              "1  PLID_11234           Herma Tann   18      M     Russia   5'10  148lbs   \n",
              "2  PLID_19127         Eilene Kizer   16      F      Spain    6'2  172lbs   \n",
              "3  PLID_17467       Andrea Badgett   27      M      Chile   5'11  165lbs   \n",
              "4   PLID_9661  Jeremiah Bumbalough   19      F  Argentina    5'8  158lbs   \n",
              "\n",
              "   ball_controlling_skills  body_reflexes  body_balance  ...  strong_foot  \\\n",
              "0                     77.0           58.0          47.0  ...        Right   \n",
              "1                     54.0           69.0          70.0  ...          Any   \n",
              "2                     34.0           43.0          45.0  ...         Left   \n",
              "3                     79.0           73.0          76.0  ...        Right   \n",
              "4                     47.0           61.0          74.0  ...        Right   \n",
              "\n",
              "   behaviour_rating  matches_played  fitness_rating  trophies_won  \\\n",
              "0               7.7             NaN             8.1           2.0   \n",
              "1               5.3             0.0             NaN           3.0   \n",
              "2               4.7             0.0             6.6           5.0   \n",
              "3               8.6           113.0             8.6           6.0   \n",
              "4               NaN             0.0             5.7           5.0   \n",
              "\n",
              "   dedication_level     coaching  years_of_experience  \\\n",
              "0              High  Talent Hunt                  8.0   \n",
              "1            Medium       Source                  3.0   \n",
              "2               Low      Academy                  2.0   \n",
              "3            Medium      Academy                 13.0   \n",
              "4            Medium      Academy                  4.0   \n",
              "\n",
              "   no_of_disqualifications  selection  \n",
              "0                      0.0          1  \n",
              "1                      0.0          0  \n",
              "2                      0.0          1  \n",
              "3                     16.0          1  \n",
              "4                      0.0          0  \n",
              "\n",
              "[5 rows x 30 columns]"
            ],
            "text/html": [
              "\n",
              "  <div id=\"df-f2c2923f-1816-4483-8479-1f6bda859eb1\" class=\"colab-df-container\">\n",
              "    <div>\n",
              "<style scoped>\n",
              "    .dataframe tbody tr th:only-of-type {\n",
              "        vertical-align: middle;\n",
              "    }\n",
              "\n",
              "    .dataframe tbody tr th {\n",
              "        vertical-align: top;\n",
              "    }\n",
              "\n",
              "    .dataframe thead th {\n",
              "        text-align: right;\n",
              "    }\n",
              "</style>\n",
              "<table border=\"1\" class=\"dataframe\">\n",
              "  <thead>\n",
              "    <tr style=\"text-align: right;\">\n",
              "      <th></th>\n",
              "      <th>player_id</th>\n",
              "      <th>name</th>\n",
              "      <th>age</th>\n",
              "      <th>gender</th>\n",
              "      <th>country</th>\n",
              "      <th>height</th>\n",
              "      <th>weight</th>\n",
              "      <th>ball_controlling_skills</th>\n",
              "      <th>body_reflexes</th>\n",
              "      <th>body_balance</th>\n",
              "      <th>...</th>\n",
              "      <th>strong_foot</th>\n",
              "      <th>behaviour_rating</th>\n",
              "      <th>matches_played</th>\n",
              "      <th>fitness_rating</th>\n",
              "      <th>trophies_won</th>\n",
              "      <th>dedication_level</th>\n",
              "      <th>coaching</th>\n",
              "      <th>years_of_experience</th>\n",
              "      <th>no_of_disqualifications</th>\n",
              "      <th>selection</th>\n",
              "    </tr>\n",
              "  </thead>\n",
              "  <tbody>\n",
              "    <tr>\n",
              "      <th>0</th>\n",
              "      <td>PLID_4964</td>\n",
              "      <td>Keva Horan</td>\n",
              "      <td>23</td>\n",
              "      <td>M</td>\n",
              "      <td>Ukraine</td>\n",
              "      <td>6'2</td>\n",
              "      <td>176lbs</td>\n",
              "      <td>77.0</td>\n",
              "      <td>58.0</td>\n",
              "      <td>47.0</td>\n",
              "      <td>...</td>\n",
              "      <td>Right</td>\n",
              "      <td>7.7</td>\n",
              "      <td>NaN</td>\n",
              "      <td>8.1</td>\n",
              "      <td>2.0</td>\n",
              "      <td>High</td>\n",
              "      <td>Talent Hunt</td>\n",
              "      <td>8.0</td>\n",
              "      <td>0.0</td>\n",
              "      <td>1</td>\n",
              "    </tr>\n",
              "    <tr>\n",
              "      <th>1</th>\n",
              "      <td>PLID_11234</td>\n",
              "      <td>Herma Tann</td>\n",
              "      <td>18</td>\n",
              "      <td>M</td>\n",
              "      <td>Russia</td>\n",
              "      <td>5'10</td>\n",
              "      <td>148lbs</td>\n",
              "      <td>54.0</td>\n",
              "      <td>69.0</td>\n",
              "      <td>70.0</td>\n",
              "      <td>...</td>\n",
              "      <td>Any</td>\n",
              "      <td>5.3</td>\n",
              "      <td>0.0</td>\n",
              "      <td>NaN</td>\n",
              "      <td>3.0</td>\n",
              "      <td>Medium</td>\n",
              "      <td>Source</td>\n",
              "      <td>3.0</td>\n",
              "      <td>0.0</td>\n",
              "      <td>0</td>\n",
              "    </tr>\n",
              "    <tr>\n",
              "      <th>2</th>\n",
              "      <td>PLID_19127</td>\n",
              "      <td>Eilene Kizer</td>\n",
              "      <td>16</td>\n",
              "      <td>F</td>\n",
              "      <td>Spain</td>\n",
              "      <td>6'2</td>\n",
              "      <td>172lbs</td>\n",
              "      <td>34.0</td>\n",
              "      <td>43.0</td>\n",
              "      <td>45.0</td>\n",
              "      <td>...</td>\n",
              "      <td>Left</td>\n",
              "      <td>4.7</td>\n",
              "      <td>0.0</td>\n",
              "      <td>6.6</td>\n",
              "      <td>5.0</td>\n",
              "      <td>Low</td>\n",
              "      <td>Academy</td>\n",
              "      <td>2.0</td>\n",
              "      <td>0.0</td>\n",
              "      <td>1</td>\n",
              "    </tr>\n",
              "    <tr>\n",
              "      <th>3</th>\n",
              "      <td>PLID_17467</td>\n",
              "      <td>Andrea Badgett</td>\n",
              "      <td>27</td>\n",
              "      <td>M</td>\n",
              "      <td>Chile</td>\n",
              "      <td>5'11</td>\n",
              "      <td>165lbs</td>\n",
              "      <td>79.0</td>\n",
              "      <td>73.0</td>\n",
              "      <td>76.0</td>\n",
              "      <td>...</td>\n",
              "      <td>Right</td>\n",
              "      <td>8.6</td>\n",
              "      <td>113.0</td>\n",
              "      <td>8.6</td>\n",
              "      <td>6.0</td>\n",
              "      <td>Medium</td>\n",
              "      <td>Academy</td>\n",
              "      <td>13.0</td>\n",
              "      <td>16.0</td>\n",
              "      <td>1</td>\n",
              "    </tr>\n",
              "    <tr>\n",
              "      <th>4</th>\n",
              "      <td>PLID_9661</td>\n",
              "      <td>Jeremiah Bumbalough</td>\n",
              "      <td>19</td>\n",
              "      <td>F</td>\n",
              "      <td>Argentina</td>\n",
              "      <td>5'8</td>\n",
              "      <td>158lbs</td>\n",
              "      <td>47.0</td>\n",
              "      <td>61.0</td>\n",
              "      <td>74.0</td>\n",
              "      <td>...</td>\n",
              "      <td>Right</td>\n",
              "      <td>NaN</td>\n",
              "      <td>0.0</td>\n",
              "      <td>5.7</td>\n",
              "      <td>5.0</td>\n",
              "      <td>Medium</td>\n",
              "      <td>Academy</td>\n",
              "      <td>4.0</td>\n",
              "      <td>0.0</td>\n",
              "      <td>0</td>\n",
              "    </tr>\n",
              "  </tbody>\n",
              "</table>\n",
              "<p>5 rows × 30 columns</p>\n",
              "</div>\n",
              "    <div class=\"colab-df-buttons\">\n",
              "\n",
              "  <div class=\"colab-df-container\">\n",
              "    <button class=\"colab-df-convert\" onclick=\"convertToInteractive('df-f2c2923f-1816-4483-8479-1f6bda859eb1')\"\n",
              "            title=\"Convert this dataframe to an interactive table.\"\n",
              "            style=\"display:none;\">\n",
              "\n",
              "  <svg xmlns=\"http://www.w3.org/2000/svg\" height=\"24px\" viewBox=\"0 -960 960 960\">\n",
              "    <path d=\"M120-120v-720h720v720H120Zm60-500h600v-160H180v160Zm220 220h160v-160H400v160Zm0 220h160v-160H400v160ZM180-400h160v-160H180v160Zm440 0h160v-160H620v160ZM180-180h160v-160H180v160Zm440 0h160v-160H620v160Z\"/>\n",
              "  </svg>\n",
              "    </button>\n",
              "\n",
              "  <style>\n",
              "    .colab-df-container {\n",
              "      display:flex;\n",
              "      gap: 12px;\n",
              "    }\n",
              "\n",
              "    .colab-df-convert {\n",
              "      background-color: #E8F0FE;\n",
              "      border: none;\n",
              "      border-radius: 50%;\n",
              "      cursor: pointer;\n",
              "      display: none;\n",
              "      fill: #1967D2;\n",
              "      height: 32px;\n",
              "      padding: 0 0 0 0;\n",
              "      width: 32px;\n",
              "    }\n",
              "\n",
              "    .colab-df-convert:hover {\n",
              "      background-color: #E2EBFA;\n",
              "      box-shadow: 0px 1px 2px rgba(60, 64, 67, 0.3), 0px 1px 3px 1px rgba(60, 64, 67, 0.15);\n",
              "      fill: #174EA6;\n",
              "    }\n",
              "\n",
              "    .colab-df-buttons div {\n",
              "      margin-bottom: 4px;\n",
              "    }\n",
              "\n",
              "    [theme=dark] .colab-df-convert {\n",
              "      background-color: #3B4455;\n",
              "      fill: #D2E3FC;\n",
              "    }\n",
              "\n",
              "    [theme=dark] .colab-df-convert:hover {\n",
              "      background-color: #434B5C;\n",
              "      box-shadow: 0px 1px 3px 1px rgba(0, 0, 0, 0.15);\n",
              "      filter: drop-shadow(0px 1px 2px rgba(0, 0, 0, 0.3));\n",
              "      fill: #FFFFFF;\n",
              "    }\n",
              "  </style>\n",
              "\n",
              "    <script>\n",
              "      const buttonEl =\n",
              "        document.querySelector('#df-f2c2923f-1816-4483-8479-1f6bda859eb1 button.colab-df-convert');\n",
              "      buttonEl.style.display =\n",
              "        google.colab.kernel.accessAllowed ? 'block' : 'none';\n",
              "\n",
              "      async function convertToInteractive(key) {\n",
              "        const element = document.querySelector('#df-f2c2923f-1816-4483-8479-1f6bda859eb1');\n",
              "        const dataTable =\n",
              "          await google.colab.kernel.invokeFunction('convertToInteractive',\n",
              "                                                    [key], {});\n",
              "        if (!dataTable) return;\n",
              "\n",
              "        const docLinkHtml = 'Like what you see? Visit the ' +\n",
              "          '<a target=\"_blank\" href=https://colab.research.google.com/notebooks/data_table.ipynb>data table notebook</a>'\n",
              "          + ' to learn more about interactive tables.';\n",
              "        element.innerHTML = '';\n",
              "        dataTable['output_type'] = 'display_data';\n",
              "        await google.colab.output.renderOutput(dataTable, element);\n",
              "        const docLink = document.createElement('div');\n",
              "        docLink.innerHTML = docLinkHtml;\n",
              "        element.appendChild(docLink);\n",
              "      }\n",
              "    </script>\n",
              "  </div>\n",
              "\n",
              "\n",
              "<div id=\"df-ed55aeb4-c108-4b31-a389-8d3dc691a693\">\n",
              "  <button class=\"colab-df-quickchart\" onclick=\"quickchart('df-ed55aeb4-c108-4b31-a389-8d3dc691a693')\"\n",
              "            title=\"Suggest charts\"\n",
              "            style=\"display:none;\">\n",
              "\n",
              "<svg xmlns=\"http://www.w3.org/2000/svg\" height=\"24px\"viewBox=\"0 0 24 24\"\n",
              "     width=\"24px\">\n",
              "    <g>\n",
              "        <path d=\"M19 3H5c-1.1 0-2 .9-2 2v14c0 1.1.9 2 2 2h14c1.1 0 2-.9 2-2V5c0-1.1-.9-2-2-2zM9 17H7v-7h2v7zm4 0h-2V7h2v10zm4 0h-2v-4h2v4z\"/>\n",
              "    </g>\n",
              "</svg>\n",
              "  </button>\n",
              "\n",
              "<style>\n",
              "  .colab-df-quickchart {\n",
              "      --bg-color: #E8F0FE;\n",
              "      --fill-color: #1967D2;\n",
              "      --hover-bg-color: #E2EBFA;\n",
              "      --hover-fill-color: #174EA6;\n",
              "      --disabled-fill-color: #AAA;\n",
              "      --disabled-bg-color: #DDD;\n",
              "  }\n",
              "\n",
              "  [theme=dark] .colab-df-quickchart {\n",
              "      --bg-color: #3B4455;\n",
              "      --fill-color: #D2E3FC;\n",
              "      --hover-bg-color: #434B5C;\n",
              "      --hover-fill-color: #FFFFFF;\n",
              "      --disabled-bg-color: #3B4455;\n",
              "      --disabled-fill-color: #666;\n",
              "  }\n",
              "\n",
              "  .colab-df-quickchart {\n",
              "    background-color: var(--bg-color);\n",
              "    border: none;\n",
              "    border-radius: 50%;\n",
              "    cursor: pointer;\n",
              "    display: none;\n",
              "    fill: var(--fill-color);\n",
              "    height: 32px;\n",
              "    padding: 0;\n",
              "    width: 32px;\n",
              "  }\n",
              "\n",
              "  .colab-df-quickchart:hover {\n",
              "    background-color: var(--hover-bg-color);\n",
              "    box-shadow: 0 1px 2px rgba(60, 64, 67, 0.3), 0 1px 3px 1px rgba(60, 64, 67, 0.15);\n",
              "    fill: var(--button-hover-fill-color);\n",
              "  }\n",
              "\n",
              "  .colab-df-quickchart-complete:disabled,\n",
              "  .colab-df-quickchart-complete:disabled:hover {\n",
              "    background-color: var(--disabled-bg-color);\n",
              "    fill: var(--disabled-fill-color);\n",
              "    box-shadow: none;\n",
              "  }\n",
              "\n",
              "  .colab-df-spinner {\n",
              "    border: 2px solid var(--fill-color);\n",
              "    border-color: transparent;\n",
              "    border-bottom-color: var(--fill-color);\n",
              "    animation:\n",
              "      spin 1s steps(1) infinite;\n",
              "  }\n",
              "\n",
              "  @keyframes spin {\n",
              "    0% {\n",
              "      border-color: transparent;\n",
              "      border-bottom-color: var(--fill-color);\n",
              "      border-left-color: var(--fill-color);\n",
              "    }\n",
              "    20% {\n",
              "      border-color: transparent;\n",
              "      border-left-color: var(--fill-color);\n",
              "      border-top-color: var(--fill-color);\n",
              "    }\n",
              "    30% {\n",
              "      border-color: transparent;\n",
              "      border-left-color: var(--fill-color);\n",
              "      border-top-color: var(--fill-color);\n",
              "      border-right-color: var(--fill-color);\n",
              "    }\n",
              "    40% {\n",
              "      border-color: transparent;\n",
              "      border-right-color: var(--fill-color);\n",
              "      border-top-color: var(--fill-color);\n",
              "    }\n",
              "    60% {\n",
              "      border-color: transparent;\n",
              "      border-right-color: var(--fill-color);\n",
              "    }\n",
              "    80% {\n",
              "      border-color: transparent;\n",
              "      border-right-color: var(--fill-color);\n",
              "      border-bottom-color: var(--fill-color);\n",
              "    }\n",
              "    90% {\n",
              "      border-color: transparent;\n",
              "      border-bottom-color: var(--fill-color);\n",
              "    }\n",
              "  }\n",
              "</style>\n",
              "\n",
              "  <script>\n",
              "    async function quickchart(key) {\n",
              "      const quickchartButtonEl =\n",
              "        document.querySelector('#' + key + ' button');\n",
              "      quickchartButtonEl.disabled = true;  // To prevent multiple clicks.\n",
              "      quickchartButtonEl.classList.add('colab-df-spinner');\n",
              "      try {\n",
              "        const charts = await google.colab.kernel.invokeFunction(\n",
              "            'suggestCharts', [key], {});\n",
              "      } catch (error) {\n",
              "        console.error('Error during call to suggestCharts:', error);\n",
              "      }\n",
              "      quickchartButtonEl.classList.remove('colab-df-spinner');\n",
              "      quickchartButtonEl.classList.add('colab-df-quickchart-complete');\n",
              "    }\n",
              "    (() => {\n",
              "      let quickchartButtonEl =\n",
              "        document.querySelector('#df-ed55aeb4-c108-4b31-a389-8d3dc691a693 button');\n",
              "      quickchartButtonEl.style.display =\n",
              "        google.colab.kernel.accessAllowed ? 'block' : 'none';\n",
              "    })();\n",
              "  </script>\n",
              "</div>\n",
              "\n",
              "    </div>\n",
              "  </div>\n"
            ]
          },
          "metadata": {},
          "execution_count": 8
        }
      ]
    },
    {
      "cell_type": "code",
      "source": [
        "#to show the column\n",
        "data.columns"
      ],
      "metadata": {
        "colab": {
          "base_uri": "https://localhost:8080/"
        },
        "id": "7QYD35KMokeU",
        "outputId": "d6a85678-790c-4dcc-e3ee-bb64aa1fab65"
      },
      "execution_count": null,
      "outputs": [
        {
          "output_type": "execute_result",
          "data": {
            "text/plain": [
              "Index(['player_id', 'name', 'age', 'gender', 'country', 'height', 'weight',\n",
              "       'ball_controlling_skills', 'body_reflexes', 'body_balance',\n",
              "       'jumping_skills', 'penalties_conversion_rate', 'mental_strength',\n",
              "       'goalkeeping_skills', 'defending_skills', 'passing_skills',\n",
              "       'dribbling_skills', 'shot_accuracy', 'body_strength_stamina',\n",
              "       'max_running_speed', 'strong_foot', 'behaviour_rating',\n",
              "       'matches_played', 'fitness_rating', 'trophies_won', 'dedication_level',\n",
              "       'coaching', 'years_of_experience', 'no_of_disqualifications',\n",
              "       'selection'],\n",
              "      dtype='object')"
            ]
          },
          "metadata": {},
          "execution_count": 9
        }
      ]
    },
    {
      "cell_type": "code",
      "source": [
        "data.shape"
      ],
      "metadata": {
        "colab": {
          "base_uri": "https://localhost:8080/"
        },
        "id": "SH0FIuucou0x",
        "outputId": "538e1373-2fee-4706-de50-65b227243dec"
      },
      "execution_count": null,
      "outputs": [
        {
          "output_type": "execute_result",
          "data": {
            "text/plain": [
              "(13994, 30)"
            ]
          },
          "metadata": {},
          "execution_count": 10
        }
      ]
    },
    {
      "cell_type": "code",
      "source": [
        "data.info()"
      ],
      "metadata": {
        "id": "quZZSB6wo0zM",
        "colab": {
          "base_uri": "https://localhost:8080/"
        },
        "outputId": "352b1446-8e15-48f2-ebaa-9996cd77bf13"
      },
      "execution_count": null,
      "outputs": [
        {
          "output_type": "stream",
          "name": "stdout",
          "text": [
            "<class 'pandas.core.frame.DataFrame'>\n",
            "RangeIndex: 13994 entries, 0 to 13993\n",
            "Data columns (total 30 columns):\n",
            " #   Column                     Non-Null Count  Dtype  \n",
            "---  ------                     --------------  -----  \n",
            " 0   player_id                  13994 non-null  object \n",
            " 1   name                       13994 non-null  object \n",
            " 2   age                        13994 non-null  int64  \n",
            " 3   gender                     13975 non-null  object \n",
            " 4   country                    13994 non-null  object \n",
            " 5   height                     13994 non-null  object \n",
            " 6   weight                     13577 non-null  object \n",
            " 7   ball_controlling_skills    13581 non-null  float64\n",
            " 8   body_reflexes              13994 non-null  float64\n",
            " 9   body_balance               13994 non-null  float64\n",
            " 10  jumping_skills             13970 non-null  float64\n",
            " 11  penalties_conversion_rate  13964 non-null  float64\n",
            " 12  mental_strength            13966 non-null  float64\n",
            " 13  goalkeeping_skills         13994 non-null  float64\n",
            " 14  defending_skills           13994 non-null  float64\n",
            " 15  passing_skills             13994 non-null  float64\n",
            " 16  dribbling_skills           13994 non-null  float64\n",
            " 17  shot_accuracy              13422 non-null  float64\n",
            " 18  body_strength_stamina      13994 non-null  float64\n",
            " 19  max_running_speed          13994 non-null  float64\n",
            " 20  strong_foot                13442 non-null  object \n",
            " 21  behaviour_rating           13291 non-null  float64\n",
            " 22  matches_played             13328 non-null  float64\n",
            " 23  fitness_rating             13299 non-null  float64\n",
            " 24  trophies_won               13994 non-null  float64\n",
            " 25  dedication_level           13994 non-null  object \n",
            " 26  coaching                   13869 non-null  object \n",
            " 27  years_of_experience        13850 non-null  float64\n",
            " 28  no_of_disqualifications    13994 non-null  float64\n",
            " 29  selection                  13994 non-null  int64  \n",
            "dtypes: float64(19), int64(2), object(9)\n",
            "memory usage: 3.2+ MB\n"
          ]
        }
      ]
    },
    {
      "cell_type": "markdown",
      "source": [
        "Exploratory Dataanlysis"
      ],
      "metadata": {
        "id": "1-h6J2cwqzGb"
      }
    },
    {
      "cell_type": "code",
      "source": [
        "data['years_of_experience'].hist()"
      ],
      "metadata": {
        "colab": {
          "base_uri": "https://localhost:8080/",
          "height": 447
        },
        "id": "QyMY-I0TqFqX",
        "outputId": "b43f56ba-4eeb-4857-b689-ddc24075a64d"
      },
      "execution_count": null,
      "outputs": [
        {
          "output_type": "execute_result",
          "data": {
            "text/plain": [
              "<Axes: >"
            ]
          },
          "metadata": {},
          "execution_count": 12
        },
        {
          "output_type": "display_data",
          "data": {
            "text/plain": [
              "<Figure size 640x480 with 1 Axes>"
            ],
            "image/png": "[encoded data removed]"
          },
          "metadata": {}
        }
      ]
    },
    {
      "cell_type": "code",
      "source": [
        "data['ball_controlling_skills'].hist()"
      ],
      "metadata": {
        "colab": {
          "base_uri": "https://localhost:8080/",
          "height": 447
        },
        "id": "oOAj8nABralJ",
        "outputId": "f5d828ad-2357-4b87-9332-8f48a81ec8bc"
      },
      "execution_count": null,
      "outputs": [
        {
          "output_type": "execute_result",
          "data": {
            "text/plain": [
              "<Axes: >"
            ]
          },
          "metadata": {},
          "execution_count": 13
        },
        {
          "output_type": "display_data",
          "data": {
            "text/plain": [
              "<Figure size 640x480 with 1 Axes>"
            ],
            "image/png": "[encoded data removed]"
          },
          "metadata": {}
        }
      ]
    },
    {
      "cell_type": "code",
      "source": [
        "data['defending_skills'].hist()"
      ],
      "metadata": {
        "colab": {
          "base_uri": "https://localhost:8080/",
          "height": 447
        },
        "id": "KYoPqhq7r3KO",
        "outputId": "8de2d27e-3a48-4443-d69e-b1f42b4d0642"
      },
      "execution_count": null,
      "outputs": [
        {
          "output_type": "execute_result",
          "data": {
            "text/plain": [
              "<Axes: >"
            ]
          },
          "metadata": {},
          "execution_count": 14
        },
        {
          "output_type": "display_data",
          "data": {
            "text/plain": [
              "<Figure size 640x480 with 1 Axes>"
            ],
            "image/png": "[encoded data removed]"
          },
          "metadata": {}
        }
      ]
    },
    {
      "cell_type": "code",
      "source": [],
      "metadata": {
        "id": "D8Sv1Uxcxrq_"
      },
      "execution_count": null,
      "outputs": []
    },
    {
      "cell_type": "markdown",
      "source": [
        "Preprocessing steps"
      ],
      "metadata": {
        "id": "W4CiJb8kxGpp"
      }
    },
    {
      "cell_type": "code",
      "source": [
        "\n",
        "\n",
        "# Assuming your DataFrame is named 'data'\n",
        "# Replace 'df' with your actual DataFrame name if it's different\n",
        "\n",
        "# Selecting numeric columns for outlier detection\n",
        "numeric_columns = data.select_dtypes(include=['float64', 'int64']).columns\n",
        "\n",
        "# Creating box plots for each numeric column\n",
        "plt.figure(figsize=(16, 8))\n",
        "for i, column in enumerate(numeric_columns, 1):\n",
        "    plt.subplot(4, 5, i)\n",
        "    sns.boxplot(x=data[column])\n",
        "    plt.title(column)\n",
        "\n",
        "plt.tight_layout()\n",
        "plt.show()\n"
      ],
      "metadata": {
        "colab": {
          "base_uri": "https://localhost:8080/",
          "height": 995
        },
        "id": "hT4Zolvb1l-t",
        "outputId": "71e70c5e-1563-4be5-888b-c8d44b8fd9c1"
      },
      "execution_count": null,
      "outputs": [
        {
          "output_type": "error",
          "ename": "ValueError",
          "evalue": "num must be an integer with 1 <= num <= 20, not 21",
          "traceback": [
            "\u001b[0;31m---------------------------------------------------------------------------\u001b[0m",
            "\u001b[0;31mValueError\u001b[0m                                Traceback (most recent call last)",
            "\u001b[0;32m<ipython-input-27-42fc6ba1ffa6>\u001b[0m in \u001b[0;36m<cell line: 9>\u001b[0;34m()\u001b[0m\n\u001b[1;32m      8\u001b[0m \u001b[0mplt\u001b[0m\u001b[0;34m.\u001b[0m\u001b[0mfigure\u001b[0m\u001b[0;34m(\u001b[0m\u001b[0mfigsize\u001b[0m\u001b[0;34m=\u001b[0m\u001b[0;34m(\u001b[0m\u001b[0;36m16\u001b[0m\u001b[0;34m,\u001b[0m \u001b[0;36m8\u001b[0m\u001b[0;34m)\u001b[0m\u001b[0;34m)\u001b[0m\u001b[0;34m\u001b[0m\u001b[0;34m\u001b[0m\u001b[0m\n\u001b[1;32m      9\u001b[0m \u001b[0;32mfor\u001b[0m \u001b[0mi\u001b[0m\u001b[0;34m,\u001b[0m \u001b[0mcolumn\u001b[0m \u001b[0;32min\u001b[0m \u001b[0menumerate\u001b[0m\u001b[0;34m(\u001b[0m\u001b[0mnumeric_columns\u001b[0m\u001b[0;34m,\u001b[0m \u001b[0;36m1\u001b[0m\u001b[0;34m)\u001b[0m\u001b[0;34m:\u001b[0m\u001b[0;34m\u001b[0m\u001b[0;34m\u001b[0m\u001b[0m\n\u001b[0;32m---> 10\u001b[0;31m     \u001b[0mplt\u001b[0m\u001b[0;34m.\u001b[0m\u001b[0msubplot\u001b[0m\u001b[0;34m(\u001b[0m\u001b[0;36m4\u001b[0m\u001b[0;34m,\u001b[0m \u001b[0;36m5\u001b[0m\u001b[0;34m,\u001b[0m \u001b[0mi\u001b[0m\u001b[0;34m)\u001b[0m\u001b[0;34m\u001b[0m\u001b[0;34m\u001b[0m\u001b[0m\n\u001b[0m\u001b[1;32m     11\u001b[0m     \u001b[0msns\u001b[0m\u001b[0;34m.\u001b[0m\u001b[0mboxplot\u001b[0m\u001b[0;34m(\u001b[0m\u001b[0mx\u001b[0m\u001b[0;34m=\u001b[0m\u001b[0mdata\u001b[0m\u001b[0;34m[\u001b[0m\u001b[0mcolumn\u001b[0m\u001b[0;34m]\u001b[0m\u001b[0;34m)\u001b[0m\u001b[0;34m\u001b[0m\u001b[0;34m\u001b[0m\u001b[0m\n\u001b[1;32m     12\u001b[0m     \u001b[0mplt\u001b[0m\u001b[0;34m.\u001b[0m\u001b[0mtitle\u001b[0m\u001b[0;34m(\u001b[0m\u001b[0mcolumn\u001b[0m\u001b[0;34m)\u001b[0m\u001b[0;34m\u001b[0m\u001b[0;34m\u001b[0m\u001b[0m\n",
            "\u001b[0;32m/usr/local/lib/python3.10/dist-packages/matplotlib/pyplot.py\u001b[0m in \u001b[0;36msubplot\u001b[0;34m(*args, **kwargs)\u001b[0m\n\u001b[1;32m   1321\u001b[0m \u001b[0;34m\u001b[0m\u001b[0m\n\u001b[1;32m   1322\u001b[0m     \u001b[0;31m# First, search for an existing subplot with a matching spec.\u001b[0m\u001b[0;34m\u001b[0m\u001b[0;34m\u001b[0m\u001b[0m\n\u001b[0;32m-> 1323\u001b[0;31m     \u001b[0mkey\u001b[0m \u001b[0;34m=\u001b[0m \u001b[0mSubplotSpec\u001b[0m\u001b[0;34m.\u001b[0m\u001b[0m_from_subplot_args\u001b[0m\u001b[0;34m(\u001b[0m\u001b[0mfig\u001b[0m\u001b[0;34m,\u001b[0m \u001b[0margs\u001b[0m\u001b[0;34m)\u001b[0m\u001b[0;34m\u001b[0m\u001b[0;34m\u001b[0m\u001b[0m\n\u001b[0m\u001b[1;32m   1324\u001b[0m \u001b[0;34m\u001b[0m\u001b[0m\n\u001b[1;32m   1325\u001b[0m     \u001b[0;32mfor\u001b[0m \u001b[0max\u001b[0m \u001b[0;32min\u001b[0m \u001b[0mfig\u001b[0m\u001b[0;34m.\u001b[0m\u001b[0maxes\u001b[0m\u001b[0;34m:\u001b[0m\u001b[0;34m\u001b[0m\u001b[0;34m\u001b[0m\u001b[0m\n",
            "\u001b[0;32m/usr/local/lib/python3.10/dist-packages/matplotlib/gridspec.py\u001b[0m in \u001b[0;36m_from_subplot_args\u001b[0;34m(figure, args)\u001b[0m\n\u001b[1;32m    596\u001b[0m         \u001b[0;32melse\u001b[0m\u001b[0;34m:\u001b[0m\u001b[0;34m\u001b[0m\u001b[0;34m\u001b[0m\u001b[0m\n\u001b[1;32m    597\u001b[0m             \u001b[0;32mif\u001b[0m \u001b[0;32mnot\u001b[0m \u001b[0misinstance\u001b[0m\u001b[0;34m(\u001b[0m\u001b[0mnum\u001b[0m\u001b[0;34m,\u001b[0m \u001b[0mIntegral\u001b[0m\u001b[0;34m)\u001b[0m \u001b[0;32mor\u001b[0m \u001b[0mnum\u001b[0m \u001b[0;34m<\u001b[0m \u001b[0;36m1\u001b[0m \u001b[0;32mor\u001b[0m \u001b[0mnum\u001b[0m \u001b[0;34m>\u001b[0m \u001b[0mrows\u001b[0m\u001b[0;34m*\u001b[0m\u001b[0mcols\u001b[0m\u001b[0;34m:\u001b[0m\u001b[0;34m\u001b[0m\u001b[0;34m\u001b[0m\u001b[0m\n\u001b[0;32m--> 598\u001b[0;31m                 raise ValueError(\n\u001b[0m\u001b[1;32m    599\u001b[0m                     \u001b[0;34mf\"num must be an integer with 1 <= num <= {rows*cols}, \"\u001b[0m\u001b[0;34m\u001b[0m\u001b[0;34m\u001b[0m\u001b[0m\n\u001b[1;32m    600\u001b[0m                     \u001b[0;34mf\"not {num!r}\"\u001b[0m\u001b[0;34m\u001b[0m\u001b[0;34m\u001b[0m\u001b[0m\n",
            "\u001b[0;31mValueError\u001b[0m: num must be an integer with 1 <= num <= 20, not 21"
          ]
        },
        {
          "output_type": "display_data",
          "data": {
            "text/plain": [
              "<Figure size 1600x800 with 20 Axes>"
            ],
            "image/png": "[encoded data removed]"
          },
          "metadata": {}
        }
      ]
    },
    {
      "cell_type": "code",
      "source": [
        "# Assuming your DataFrame is named 'df'\n",
        "# Replace 'df' with your actual DataFrame name if it's different\n",
        "\n",
        "# Selecting numeric columns for outlier detection\n",
        "numeric_columns = data.select_dtypes(include=['float64', 'int64']).columns\n",
        "\n",
        "# Calculate the IQR for each numeric column\n",
        "Q1 = data[numeric_columns].quantile(0.25)\n",
        "Q3 = data[numeric_columns].quantile(0.75)\n",
        "IQR = Q3 - Q1\n",
        "\n",
        "# Define a threshold for outliers (e.g., 1.5 times the IQR)\n",
        "threshold = 1.5\n",
        "\n",
        "# Identify rows with outliers using the IQR test\n",
        "outlier_indices = ((data[numeric_columns] < (Q1 - threshold * IQR)) | (data[numeric_columns] > (Q3 + threshold * IQR))).any(axis=1)\n",
        "\n",
        "# Remove rows with outliers\n",
        "df_no_outliers_iqr = data[~outlier_indices]\n",
        "\n",
        "# Print the number of rows before and after removing outliers\n",
        "print(f\"Number of rows before removing outliers: {len(data)}\")\n",
        "print(f\"Number of rows after removing outliers: {len(df_no_outliers_iqr)}\")\n",
        "\n",
        "\n",
        "\n"
      ],
      "metadata": {
        "id": "ZR8d9v222l38",
        "colab": {
          "base_uri": "https://localhost:8080/"
        },
        "outputId": "5958f1e3-1014-4028-dde7-1d6302b1ff49"
      },
      "execution_count": 33,
      "outputs": [
        {
          "output_type": "stream",
          "name": "stdout",
          "text": [
            "Number of rows before removing outliers: 13994\n",
            "Number of rows after removing outliers: 9191\n"
          ]
        }
      ]
    },
    {
      "cell_type": "code",
      "source": [],
      "metadata": {
        "id": "lIRBkmKc32zy"
      },
      "execution_count": null,
      "outputs": []
    },
    {
      "cell_type": "code",
      "source": [
        "from  sklearn.preprocessing import LabelEncoder\n",
        "#le=LabelEncoder()"
      ],
      "metadata": {
        "id": "GeTn9lTgxtE1"
      },
      "execution_count": null,
      "outputs": []
    },
    {
      "cell_type": "code",
      "source": [],
      "metadata": {
        "id": "4pORubDV2ki4"
      },
      "execution_count": null,
      "outputs": []
    },
    {
      "cell_type": "code",
      "source": [
        "label_encoder = LabelEncoder()\n",
        "\n",
        "data['dedication_level_encoded'] = label_encoder.fit_transform(data['dedication_level'])\n",
        "data['coaching_encoded'] = label_encoder.fit_transform(data['coaching'])\n"
      ],
      "metadata": {
        "id": "8V6zA09TwwYM"
      },
      "execution_count": null,
      "outputs": []
    },
    {
      "cell_type": "code",
      "source": [
        "data['behavior_rating_encoded'] = label_encoder.fit_transform(data['behaviour_rating'])"
      ],
      "metadata": {
        "id": "n1zkQU330ICR"
      },
      "execution_count": null,
      "outputs": []
    },
    {
      "cell_type": "code",
      "source": [
        "data.drop(['behaviour_rating', 'dedication_level', 'coaching'], axis=1, inplace=True)\n"
      ],
      "metadata": {
        "id": "_e2smAS7zzYa"
      },
      "execution_count": null,
      "outputs": []
    },
    {
      "cell_type": "code",
      "source": [
        "data.head"
      ],
      "metadata": {
        "colab": {
          "base_uri": "https://localhost:8080/"
        },
        "id": "TLR1QPPK0Yig",
        "outputId": "1cd026cb-4c4f-43cd-8f36-a21477bbf446"
      },
      "execution_count": null,
      "outputs": [
        {
          "output_type": "execute_result",
          "data": {
            "text/plain": [
              "<bound method NDFrame.head of         player_id                 name  age gender    country height  weight  \\\n",
              "0       PLID_4964           Keva Horan   23      M    Ukraine    6'2  176lbs   \n",
              "1      PLID_11234           Herma Tann   18      M     Russia   5'10  148lbs   \n",
              "2      PLID_19127         Eilene Kizer   16      F      Spain    6'2  172lbs   \n",
              "3      PLID_17467       Andrea Badgett   27      M      Chile   5'11  165lbs   \n",
              "4       PLID_9661  Jeremiah Bumbalough   19      F  Argentina    5'8  158lbs   \n",
              "...           ...                  ...  ...    ...        ...    ...     ...   \n",
              "13989  PLID_10956         Viva Stepney   20      M    Uruguay    6'0  161lbs   \n",
              "13990  PLID_17290           Illa Pitre   18      F    England   5'10  165lbs   \n",
              "13991   PLID_5193    Marylouise Mosley   17      M      Japan    6'0  172lbs   \n",
              "13992  PLID_12173       Teri Escamilla   20      F    Ukraine   5'10  150lbs   \n",
              "13993    PLID_236       Darius Schuman   16      F      Chile    5'8  159lbs   \n",
              "\n",
              "       ball_controlling_skills  body_reflexes  body_balance  ...  strong_foot  \\\n",
              "0                         77.0           58.0          47.0  ...        Right   \n",
              "1                         54.0           69.0          70.0  ...          Any   \n",
              "2                         34.0           43.0          45.0  ...         Left   \n",
              "3                         79.0           73.0          76.0  ...        Right   \n",
              "4                         47.0           61.0          74.0  ...        Right   \n",
              "...                        ...            ...           ...  ...          ...   \n",
              "13989                     60.0           48.0          62.0  ...        Right   \n",
              "13990                     53.0           68.0          59.0  ...        Right   \n",
              "13991                     56.0           73.0          62.0  ...         Left   \n",
              "13992                     71.0           69.0          70.0  ...         Left   \n",
              "13993                     53.0           59.0          67.0  ...        Right   \n",
              "\n",
              "       matches_played  fitness_rating  trophies_won  years_of_experience  \\\n",
              "0                 NaN             8.1           2.0                  8.0   \n",
              "1                 0.0             NaN           3.0                  3.0   \n",
              "2                 0.0             6.6           5.0                  2.0   \n",
              "3               113.0             8.6           6.0                 13.0   \n",
              "4                 0.0             5.7           5.0                  4.0   \n",
              "...               ...             ...           ...                  ...   \n",
              "13989             NaN             7.6           2.0                  6.0   \n",
              "13990             0.0             5.6           3.0                  4.0   \n",
              "13991             0.0             7.7           3.0                  2.0   \n",
              "13992             1.0             5.8           4.0                  6.0   \n",
              "13993             0.0             6.7           0.0                  1.0   \n",
              "\n",
              "       no_of_disqualifications  selection  dedication_level_encoded  \\\n",
              "0                          0.0          1                         0   \n",
              "1                          0.0          0                         2   \n",
              "2                          0.0          1                         1   \n",
              "3                         16.0          1                         2   \n",
              "4                          0.0          0                         2   \n",
              "...                        ...        ...                       ...   \n",
              "13989                      0.0          1                         2   \n",
              "13990                      0.0          0                         2   \n",
              "13991                      0.0          1                         1   \n",
              "13992                      0.0          1                         2   \n",
              "13993                      0.0          0                         2   \n",
              "\n",
              "       coaching_encoded  behavior_rating_encoded  \n",
              "0                     2                       47  \n",
              "1                     1                       27  \n",
              "2                     0                       22  \n",
              "3                     0                       54  \n",
              "4                     0                       64  \n",
              "...                 ...                      ...  \n",
              "13989                 0                       33  \n",
              "13990                 0                       27  \n",
              "13991                 2                       30  \n",
              "13992                 0                       39  \n",
              "13993                 1                       18  \n",
              "\n",
              "[13994 rows x 30 columns]>"
            ]
          },
          "metadata": {},
          "execution_count": 26
        }
      ]
    },
    {
      "cell_type": "code",
      "source": [],
      "metadata": {
        "id": "_5eCD73X0b0U"
      },
      "execution_count": null,
      "outputs": []
    },
    {
      "cell_type": "markdown",
      "source": [
        "Model selection,Tuning,spliting data"
      ],
      "metadata": {
        "id": "DZPxEzIU0qCK"
      }
    },
    {
      "cell_type": "code",
      "source": [
        "import pandas as pd\n",
        "from sklearn.model_selection import train_test_split\n",
        "from sklearn.ensemble import RandomForestClassifier\n",
        "from sklearn.metrics import accuracy_score\n",
        "\n",
        "# Assuming your DataFrame is named 'data'\n",
        "# Replace 'data' with your actual DataFrame name if it's different\n",
        "\n",
        "# Selecting features and target variable\n",
        "X = data.drop(['player_id', 'name', 'selection'], axis=1)\n",
        "y = data['selection']\n",
        "\n",
        "# Split the data into training and testing sets\n",
        "X_train, X_test, y_train, y_test = train_test_split(X, y, test_size=0.2, random_state=42)\n",
        "\n",
        "# Initialize the RandomForestClassifier\n",
        "model = RandomForestClassifier(random_state=42)\n",
        "\n",
        "# Train the model\n",
        "model.fit(X_train, y_train)\n",
        "\n",
        "# Make predictions on the test set\n",
        "predictions = model.predict(X_test)\n",
        "\n",
        "# Evaluate the model\n",
        "accuracy = accuracy_score(y_test, predictions)\n",
        "print(f'Model Accuracy: {accuracy}')\n"
      ],
      "metadata": {
        "id": "COLxsfQhwZLY",
        "colab": {
          "base_uri": "https://localhost:8080/",
          "height": 390
        },
        "outputId": "4f289abe-2048-46de-984b-c854fc3bc44b"
      },
      "execution_count": 37,
      "outputs": [
        {
          "output_type": "error",
          "ename": "ValueError",
          "evalue": "could not convert string to float: 'F'",
          "traceback": [
            "\u001b[0;31m---------------------------------------------------------------------------\u001b[0m",
            "\u001b[0;31mValueError\u001b[0m                                Traceback (most recent call last)",
            "\u001b[0;32m<ipython-input-37-80f5bbabe2d6>\u001b[0m in \u001b[0;36m<cell line: 20>\u001b[0;34m()\u001b[0m\n\u001b[1;32m     18\u001b[0m \u001b[0;34m\u001b[0m\u001b[0m\n\u001b[1;32m     19\u001b[0m \u001b[0;31m# Train the model\u001b[0m\u001b[0;34m\u001b[0m\u001b[0;34m\u001b[0m\u001b[0m\n\u001b[0;32m---> 20\u001b[0;31m \u001b[0mmodel\u001b[0m\u001b[0;34m.\u001b[0m\u001b[0mfit\u001b[0m\u001b[0;34m(\u001b[0m\u001b[0mX_train\u001b[0m\u001b[0;34m,\u001b[0m \u001b[0my_train\u001b[0m\u001b[0;34m)\u001b[0m\u001b[0;34m\u001b[0m\u001b[0;34m\u001b[0m\u001b[0m\n\u001b[0m\u001b[1;32m     21\u001b[0m \u001b[0;34m\u001b[0m\u001b[0m\n\u001b[1;32m     22\u001b[0m \u001b[0;31m# Make predictions on the test set\u001b[0m\u001b[0;34m\u001b[0m\u001b[0;34m\u001b[0m\u001b[0m\n",
            "\u001b[0;32m/usr/local/lib/python3.10/dist-packages/sklearn/ensemble/_forest.py\u001b[0m in \u001b[0;36mfit\u001b[0;34m(self, X, y, sample_weight)\u001b[0m\n\u001b[1;32m    343\u001b[0m         \u001b[0;32mif\u001b[0m \u001b[0missparse\u001b[0m\u001b[0;34m(\u001b[0m\u001b[0my\u001b[0m\u001b[0;34m)\u001b[0m\u001b[0;34m:\u001b[0m\u001b[0;34m\u001b[0m\u001b[0;34m\u001b[0m\u001b[0m\n\u001b[1;32m    344\u001b[0m             \u001b[0;32mraise\u001b[0m \u001b[0mValueError\u001b[0m\u001b[0;34m(\u001b[0m\u001b[0;34m\"sparse multilabel-indicator for y is not supported.\"\u001b[0m\u001b[0;34m)\u001b[0m\u001b[0;34m\u001b[0m\u001b[0;34m\u001b[0m\u001b[0m\n\u001b[0;32m--> 345\u001b[0;31m         X, y = self._validate_data(\n\u001b[0m\u001b[1;32m    346\u001b[0m             \u001b[0mX\u001b[0m\u001b[0;34m,\u001b[0m \u001b[0my\u001b[0m\u001b[0;34m,\u001b[0m \u001b[0mmulti_output\u001b[0m\u001b[0;34m=\u001b[0m\u001b[0;32mTrue\u001b[0m\u001b[0;34m,\u001b[0m \u001b[0maccept_sparse\u001b[0m\u001b[0;34m=\u001b[0m\u001b[0;34m\"csc\"\u001b[0m\u001b[0;34m,\u001b[0m \u001b[0mdtype\u001b[0m\u001b[0;34m=\u001b[0m\u001b[0mDTYPE\u001b[0m\u001b[0;34m\u001b[0m\u001b[0;34m\u001b[0m\u001b[0m\n\u001b[1;32m    347\u001b[0m         )\n",
            "\u001b[0;32m/usr/local/lib/python3.10/dist-packages/sklearn/base.py\u001b[0m in \u001b[0;36m_validate_data\u001b[0;34m(self, X, y, reset, validate_separately, **check_params)\u001b[0m\n\u001b[1;32m    582\u001b[0m                 \u001b[0my\u001b[0m \u001b[0;34m=\u001b[0m \u001b[0mcheck_array\u001b[0m\u001b[0;34m(\u001b[0m\u001b[0my\u001b[0m\u001b[0;34m,\u001b[0m \u001b[0minput_name\u001b[0m\u001b[0;34m=\u001b[0m\u001b[0;34m\"y\"\u001b[0m\u001b[0;34m,\u001b[0m \u001b[0;34m**\u001b[0m\u001b[0mcheck_y_params\u001b[0m\u001b[0;34m)\u001b[0m\u001b[0;34m\u001b[0m\u001b[0;34m\u001b[0m\u001b[0m\n\u001b[1;32m    583\u001b[0m             \u001b[0;32melse\u001b[0m\u001b[0;34m:\u001b[0m\u001b[0;34m\u001b[0m\u001b[0;34m\u001b[0m\u001b[0m\n\u001b[0;32m--> 584\u001b[0;31m                 \u001b[0mX\u001b[0m\u001b[0;34m,\u001b[0m \u001b[0my\u001b[0m \u001b[0;34m=\u001b[0m \u001b[0mcheck_X_y\u001b[0m\u001b[0;34m(\u001b[0m\u001b[0mX\u001b[0m\u001b[0;34m,\u001b[0m \u001b[0my\u001b[0m\u001b[0;34m,\u001b[0m \u001b[0;34m**\u001b[0m\u001b[0mcheck_params\u001b[0m\u001b[0;34m)\u001b[0m\u001b[0;34m\u001b[0m\u001b[0;34m\u001b[0m\u001b[0m\n\u001b[0m\u001b[1;32m    585\u001b[0m             \u001b[0mout\u001b[0m \u001b[0;34m=\u001b[0m \u001b[0mX\u001b[0m\u001b[0;34m,\u001b[0m \u001b[0my\u001b[0m\u001b[0;34m\u001b[0m\u001b[0;34m\u001b[0m\u001b[0m\n\u001b[1;32m    586\u001b[0m \u001b[0;34m\u001b[0m\u001b[0m\n",
            "\u001b[0;32m/usr/local/lib/python3.10/dist-packages/sklearn/utils/validation.py\u001b[0m in \u001b[0;36mcheck_X_y\u001b[0;34m(X, y, accept_sparse, accept_large_sparse, dtype, order, copy, force_all_finite, ensure_2d, allow_nd, multi_output, ensure_min_samples, ensure_min_features, y_numeric, estimator)\u001b[0m\n\u001b[1;32m   1104\u001b[0m         )\n\u001b[1;32m   1105\u001b[0m \u001b[0;34m\u001b[0m\u001b[0m\n\u001b[0;32m-> 1106\u001b[0;31m     X = check_array(\n\u001b[0m\u001b[1;32m   1107\u001b[0m         \u001b[0mX\u001b[0m\u001b[0;34m,\u001b[0m\u001b[0;34m\u001b[0m\u001b[0;34m\u001b[0m\u001b[0m\n\u001b[1;32m   1108\u001b[0m         \u001b[0maccept_sparse\u001b[0m\u001b[0;34m=\u001b[0m\u001b[0maccept_sparse\u001b[0m\u001b[0;34m,\u001b[0m\u001b[0;34m\u001b[0m\u001b[0;34m\u001b[0m\u001b[0m\n",
            "\u001b[0;32m/usr/local/lib/python3.10/dist-packages/sklearn/utils/validation.py\u001b[0m in \u001b[0;36mcheck_array\u001b[0;34m(array, accept_sparse, accept_large_sparse, dtype, order, copy, force_all_finite, ensure_2d, allow_nd, ensure_min_samples, ensure_min_features, estimator, input_name)\u001b[0m\n\u001b[1;32m    877\u001b[0m                     \u001b[0marray\u001b[0m \u001b[0;34m=\u001b[0m \u001b[0mxp\u001b[0m\u001b[0;34m.\u001b[0m\u001b[0mastype\u001b[0m\u001b[0;34m(\u001b[0m\u001b[0marray\u001b[0m\u001b[0;34m,\u001b[0m \u001b[0mdtype\u001b[0m\u001b[0;34m,\u001b[0m \u001b[0mcopy\u001b[0m\u001b[0;34m=\u001b[0m\u001b[0;32mFalse\u001b[0m\u001b[0;34m)\u001b[0m\u001b[0;34m\u001b[0m\u001b[0;34m\u001b[0m\u001b[0m\n\u001b[1;32m    878\u001b[0m                 \u001b[0;32melse\u001b[0m\u001b[0;34m:\u001b[0m\u001b[0;34m\u001b[0m\u001b[0;34m\u001b[0m\u001b[0m\n\u001b[0;32m--> 879\u001b[0;31m                     \u001b[0marray\u001b[0m \u001b[0;34m=\u001b[0m \u001b[0m_asarray_with_order\u001b[0m\u001b[0;34m(\u001b[0m\u001b[0marray\u001b[0m\u001b[0;34m,\u001b[0m \u001b[0morder\u001b[0m\u001b[0;34m=\u001b[0m\u001b[0morder\u001b[0m\u001b[0;34m,\u001b[0m \u001b[0mdtype\u001b[0m\u001b[0;34m=\u001b[0m\u001b[0mdtype\u001b[0m\u001b[0;34m,\u001b[0m \u001b[0mxp\u001b[0m\u001b[0;34m=\u001b[0m\u001b[0mxp\u001b[0m\u001b[0;34m)\u001b[0m\u001b[0;34m\u001b[0m\u001b[0;34m\u001b[0m\u001b[0m\n\u001b[0m\u001b[1;32m    880\u001b[0m             \u001b[0;32mexcept\u001b[0m \u001b[0mComplexWarning\u001b[0m \u001b[0;32mas\u001b[0m \u001b[0mcomplex_warning\u001b[0m\u001b[0;34m:\u001b[0m\u001b[0;34m\u001b[0m\u001b[0;34m\u001b[0m\u001b[0m\n\u001b[1;32m    881\u001b[0m                 raise ValueError(\n",
            "\u001b[0;32m/usr/local/lib/python3.10/dist-packages/sklearn/utils/_array_api.py\u001b[0m in \u001b[0;36m_asarray_with_order\u001b[0;34m(array, dtype, order, copy, xp)\u001b[0m\n\u001b[1;32m    183\u001b[0m     \u001b[0;32mif\u001b[0m \u001b[0mxp\u001b[0m\u001b[0;34m.\u001b[0m\u001b[0m__name__\u001b[0m \u001b[0;32min\u001b[0m \u001b[0;34m{\u001b[0m\u001b[0;34m\"numpy\"\u001b[0m\u001b[0;34m,\u001b[0m \u001b[0;34m\"numpy.array_api\"\u001b[0m\u001b[0;34m}\u001b[0m\u001b[0;34m:\u001b[0m\u001b[0;34m\u001b[0m\u001b[0;34m\u001b[0m\u001b[0m\n\u001b[1;32m    184\u001b[0m         \u001b[0;31m# Use NumPy API to support order\u001b[0m\u001b[0;34m\u001b[0m\u001b[0;34m\u001b[0m\u001b[0m\n\u001b[0;32m--> 185\u001b[0;31m         \u001b[0marray\u001b[0m \u001b[0;34m=\u001b[0m \u001b[0mnumpy\u001b[0m\u001b[0;34m.\u001b[0m\u001b[0masarray\u001b[0m\u001b[0;34m(\u001b[0m\u001b[0marray\u001b[0m\u001b[0;34m,\u001b[0m \u001b[0morder\u001b[0m\u001b[0;34m=\u001b[0m\u001b[0morder\u001b[0m\u001b[0;34m,\u001b[0m \u001b[0mdtype\u001b[0m\u001b[0;34m=\u001b[0m\u001b[0mdtype\u001b[0m\u001b[0;34m)\u001b[0m\u001b[0;34m\u001b[0m\u001b[0;34m\u001b[0m\u001b[0m\n\u001b[0m\u001b[1;32m    186\u001b[0m         \u001b[0;32mreturn\u001b[0m \u001b[0mxp\u001b[0m\u001b[0;34m.\u001b[0m\u001b[0masarray\u001b[0m\u001b[0;34m(\u001b[0m\u001b[0marray\u001b[0m\u001b[0;34m,\u001b[0m \u001b[0mcopy\u001b[0m\u001b[0;34m=\u001b[0m\u001b[0mcopy\u001b[0m\u001b[0;34m)\u001b[0m\u001b[0;34m\u001b[0m\u001b[0;34m\u001b[0m\u001b[0m\n\u001b[1;32m    187\u001b[0m     \u001b[0;32melse\u001b[0m\u001b[0;34m:\u001b[0m\u001b[0;34m\u001b[0m\u001b[0;34m\u001b[0m\u001b[0m\n",
            "\u001b[0;32m/usr/local/lib/python3.10/dist-packages/pandas/core/generic.py\u001b[0m in \u001b[0;36m__array__\u001b[0;34m(self, dtype)\u001b[0m\n\u001b[1;32m   2068\u001b[0m \u001b[0;34m\u001b[0m\u001b[0m\n\u001b[1;32m   2069\u001b[0m     \u001b[0;32mdef\u001b[0m \u001b[0m__array__\u001b[0m\u001b[0;34m(\u001b[0m\u001b[0mself\u001b[0m\u001b[0;34m,\u001b[0m \u001b[0mdtype\u001b[0m\u001b[0;34m:\u001b[0m \u001b[0mnpt\u001b[0m\u001b[0;34m.\u001b[0m\u001b[0mDTypeLike\u001b[0m \u001b[0;34m|\u001b[0m \u001b[0;32mNone\u001b[0m \u001b[0;34m=\u001b[0m \u001b[0;32mNone\u001b[0m\u001b[0;34m)\u001b[0m \u001b[0;34m->\u001b[0m \u001b[0mnp\u001b[0m\u001b[0;34m.\u001b[0m\u001b[0mndarray\u001b[0m\u001b[0;34m:\u001b[0m\u001b[0;34m\u001b[0m\u001b[0;34m\u001b[0m\u001b[0m\n\u001b[0;32m-> 2070\u001b[0;31m         \u001b[0;32mreturn\u001b[0m \u001b[0mnp\u001b[0m\u001b[0;34m.\u001b[0m\u001b[0masarray\u001b[0m\u001b[0;34m(\u001b[0m\u001b[0mself\u001b[0m\u001b[0;34m.\u001b[0m\u001b[0m_values\u001b[0m\u001b[0;34m,\u001b[0m \u001b[0mdtype\u001b[0m\u001b[0;34m=\u001b[0m\u001b[0mdtype\u001b[0m\u001b[0;34m)\u001b[0m\u001b[0;34m\u001b[0m\u001b[0;34m\u001b[0m\u001b[0m\n\u001b[0m\u001b[1;32m   2071\u001b[0m \u001b[0;34m\u001b[0m\u001b[0m\n\u001b[1;32m   2072\u001b[0m     def __array_wrap__(\n",
            "\u001b[0;31mValueError\u001b[0m: could not convert string to float: 'F'"
          ]
        }
      ]
    },
    {
      "cell_type": "code",
      "source": [
        "# Check for missing values\n",
        "print(X_train.isnull().sum())\n",
        "\n",
        "# Check data types\n",
        "print(X_train.dtypes)\n"
      ],
      "metadata": {
        "colab": {
          "base_uri": "https://localhost:8080/"
        },
        "id": "J-L6rLBU72Ne",
        "outputId": "f89769da-65b7-41f6-d033-238abf8dcd11"
      },
      "execution_count": 38,
      "outputs": [
        {
          "output_type": "stream",
          "name": "stdout",
          "text": [
            "age                            0\n",
            "gender                        16\n",
            "country                        0\n",
            "height                         0\n",
            "weight                       337\n",
            "ball_controlling_skills      334\n",
            "body_reflexes                  0\n",
            "body_balance                   0\n",
            "jumping_skills                17\n",
            "penalties_conversion_rate     23\n",
            "mental_strength               23\n",
            "goalkeeping_skills             0\n",
            "defending_skills               0\n",
            "passing_skills                 0\n",
            "dribbling_skills               0\n",
            "shot_accuracy                480\n",
            "body_strength_stamina          0\n",
            "max_running_speed              0\n",
            "strong_foot                  463\n",
            "matches_played               532\n",
            "fitness_rating               559\n",
            "trophies_won                   0\n",
            "years_of_experience          114\n",
            "no_of_disqualifications        0\n",
            "dedication_level_encoded       0\n",
            "coaching_encoded               0\n",
            "behavior_rating_encoded        0\n",
            "dtype: int64\n",
            "age                            int64\n",
            "gender                        object\n",
            "country                       object\n",
            "height                        object\n",
            "weight                        object\n",
            "ball_controlling_skills      float64\n",
            "body_reflexes                float64\n",
            "body_balance                 float64\n",
            "jumping_skills               float64\n",
            "penalties_conversion_rate    float64\n",
            "mental_strength              float64\n",
            "goalkeeping_skills           float64\n",
            "defending_skills             float64\n",
            "passing_skills               float64\n",
            "dribbling_skills             float64\n",
            "shot_accuracy                float64\n",
            "body_strength_stamina        float64\n",
            "max_running_speed            float64\n",
            "strong_foot                   object\n",
            "matches_played               float64\n",
            "fitness_rating               float64\n",
            "trophies_won                 float64\n",
            "years_of_experience          float64\n",
            "no_of_disqualifications      float64\n",
            "dedication_level_encoded       int64\n",
            "coaching_encoded               int64\n",
            "behavior_rating_encoded        int64\n",
            "dtype: object\n"
          ]
        }
      ]
    },
    {
      "cell_type": "code",
      "source": [
        "from sklearn.impute import SimpleImputer\n",
        "from sklearn.preprocessing import OneHotEncoder\n",
        "from sklearn.compose import ColumnTransformer\n",
        "from sklearn.pipeline import Pipeline\n",
        "\n",
        "# Assuming your DataFrame is named 'df_no_outliers'\n",
        "# Replace 'df_no_outliers' with your actual DataFrame name if it's different\n",
        "\n",
        "# Selecting features and target variable\n",
        "X = data.drop(['player_id', 'name', 'selection'], axis=1)\n",
        "y = data['selection']\n",
        "\n",
        "# Separate numeric and categorical columns\n",
        "numeric_features = X.select_dtypes(include=['float64']).columns\n",
        "categorical_features = X.select_dtypes(include=['object']).columns\n",
        "\n",
        "# Create transformers\n",
        "numeric_transformer = SimpleImputer(strategy='mean')\n",
        "categorical_transformer = Pipeline(steps=[\n",
        "    ('imputer', SimpleImputer(strategy='most_frequent')),\n",
        "    ('onehot', OneHotEncoder(handle_unknown='ignore'))\n",
        "])\n",
        "\n",
        "# Create preprocessor\n",
        "preprocessor = ColumnTransformer(\n",
        "    transformers=[\n",
        "        ('num', numeric_transformer, numeric_features),\n",
        "        ('cat', categorical_transformer, categorical_features)\n",
        "    ])\n",
        "\n",
        "# Initialize the RandomForestClassifier with the preprocessor in a pipeline\n",
        "model = Pipeline(steps=[('preprocessor', preprocessor),\n",
        "                        ('classifier', RandomForestClassifier(random_state=42))])\n",
        "\n",
        "# Split the data into training and testing sets\n",
        "X_train, X_test, y_train, y_test = train_test_split(X, y, test_size=0.2, random_state=42)\n",
        "\n",
        "# Train the model\n",
        "model.fit(X_train, y_train)\n",
        "\n",
        "# Make predictions on the test set\n",
        "predictions = model.predict(X_test)\n",
        "\n",
        "# Evaluate the model\n",
        "accuracy = accuracy_score(y_test, predictions)\n",
        "print(f'Model Accuracy: {accuracy}')\n"
      ],
      "metadata": {
        "colab": {
          "base_uri": "https://localhost:8080/"
        },
        "id": "3OmKifIw8Tz9",
        "outputId": "d4b493bd-9f06-492b-9d5f-8843c89e0d57"
      },
      "execution_count": 39,
      "outputs": [
        {
          "output_type": "stream",
          "name": "stdout",
          "text": [
            "Model Accuracy: 0.8310110753840657\n"
          ]
        }
      ]
    },
    {
      "cell_type": "code",
      "source": [
        "data.isna().sum()"
      ],
      "metadata": {
        "colab": {
          "base_uri": "https://localhost:8080/"
        },
        "id": "hK1KbCcf8sbx",
        "outputId": "42c8be24-71d5-4e10-a452-a24ba9e4d25e"
      },
      "execution_count": 40,
      "outputs": [
        {
          "output_type": "execute_result",
          "data": {
            "text/plain": [
              "player_id                      0\n",
              "name                           0\n",
              "age                            0\n",
              "gender                        19\n",
              "country                        0\n",
              "height                         0\n",
              "weight                       417\n",
              "ball_controlling_skills      413\n",
              "body_reflexes                  0\n",
              "body_balance                   0\n",
              "jumping_skills                24\n",
              "penalties_conversion_rate     30\n",
              "mental_strength               28\n",
              "goalkeeping_skills             0\n",
              "defending_skills               0\n",
              "passing_skills                 0\n",
              "dribbling_skills               0\n",
              "shot_accuracy                572\n",
              "body_strength_stamina          0\n",
              "max_running_speed              0\n",
              "strong_foot                  552\n",
              "matches_played               666\n",
              "fitness_rating               695\n",
              "trophies_won                   0\n",
              "years_of_experience          144\n",
              "no_of_disqualifications        0\n",
              "selection                      0\n",
              "dedication_level_encoded       0\n",
              "coaching_encoded               0\n",
              "behavior_rating_encoded        0\n",
              "dtype: int64"
            ]
          },
          "metadata": {},
          "execution_count": 40
        }
      ]
    },
    {
      "cell_type": "code",
      "source": [
        "from sklearn.impute import SimpleImputer\n",
        "from sklearn.preprocessing import OneHotEncoder\n",
        "from sklearn.compose import ColumnTransformer\n",
        "from sklearn.pipeline import Pipeline\n",
        "from sklearn.ensemble import RandomForestClassifier\n",
        "from sklearn.model_selection import train_test_split\n",
        "from sklearn.metrics import accuracy_score\n",
        "\n",
        "# Assuming your DataFrame is named 'df_no_outliers'\n",
        "# Replace 'df_no_outliers' with your actual DataFrame name if it's different\n",
        "\n",
        "# Selecting features and target variable\n",
        "X = data.drop(['player_id', 'name', 'selection'], axis=1)\n",
        "y = data['selection']\n",
        "\n",
        "# Separate numeric and categorical columns\n",
        "numeric_features = X.select_dtypes(include=['float64']).columns\n",
        "categorical_features = X.select_dtypes(include=['object']).columns\n",
        "\n",
        "# Create transformers\n",
        "numeric_transformer = Pipeline(steps=[\n",
        "    ('imputer', SimpleImputer(strategy='mean'))\n",
        "])\n",
        "\n",
        "categorical_transformer = Pipeline(steps=[\n",
        "    ('imputer', SimpleImputer(strategy='most_frequent')),\n",
        "    ('onehot', OneHotEncoder(handle_unknown='ignore'))\n",
        "])\n",
        "\n",
        "# Create preprocessor\n",
        "preprocessor = ColumnTransformer(\n",
        "    transformers=[\n",
        "        ('num', numeric_transformer, numeric_features),\n",
        "        ('cat', categorical_transformer, categorical_features)\n",
        "    ])\n",
        "\n",
        "# Initialize the RandomForestClassifier with the preprocessor in a pipeline\n",
        "model = Pipeline(steps=[('preprocessor', preprocessor),\n",
        "                        ('classifier', RandomForestClassifier(random_state=42))])\n",
        "\n",
        "# Split the data into training and testing sets\n",
        "X_train, X_test, y_train, y_test = train_test_split(X, y, test_size=0.2, random_state=42)\n",
        "\n",
        "# Train the model\n",
        "model.fit(X_train, y_train)\n",
        "\n",
        "# Make predictions on the test set\n",
        "predictions = model.predict(X_test)\n",
        "\n",
        "# Evaluate the model\n",
        "accuracy = accuracy_score(y_test, predictions)\n",
        "print(f'Model Accuracy: {accuracy}')\n"
      ],
      "metadata": {
        "colab": {
          "base_uri": "https://localhost:8080/"
        },
        "id": "S6dNnOJ_9Me4",
        "outputId": "d375b5c4-6bdd-4b6b-cef3-f8091808e95f"
      },
      "execution_count": 41,
      "outputs": [
        {
          "output_type": "stream",
          "name": "stdout",
          "text": [
            "Model Accuracy: 0.8310110753840657\n"
          ]
        }
      ]
    },
    {
      "cell_type": "code",
      "source": [
        "data.isna().sum()"
      ],
      "metadata": {
        "colab": {
          "base_uri": "https://localhost:8080/"
        },
        "id": "yn8TQA0P9ZY3",
        "outputId": "71d1387d-ae0e-4f7a-93f7-66d437617d1d"
      },
      "execution_count": 42,
      "outputs": [
        {
          "output_type": "execute_result",
          "data": {
            "text/plain": [
              "player_id                      0\n",
              "name                           0\n",
              "age                            0\n",
              "gender                        19\n",
              "country                        0\n",
              "height                         0\n",
              "weight                       417\n",
              "ball_controlling_skills      413\n",
              "body_reflexes                  0\n",
              "body_balance                   0\n",
              "jumping_skills                24\n",
              "penalties_conversion_rate     30\n",
              "mental_strength               28\n",
              "goalkeeping_skills             0\n",
              "defending_skills               0\n",
              "passing_skills                 0\n",
              "dribbling_skills               0\n",
              "shot_accuracy                572\n",
              "body_strength_stamina          0\n",
              "max_running_speed              0\n",
              "strong_foot                  552\n",
              "matches_played               666\n",
              "fitness_rating               695\n",
              "trophies_won                   0\n",
              "years_of_experience          144\n",
              "no_of_disqualifications        0\n",
              "selection                      0\n",
              "dedication_level_encoded       0\n",
              "coaching_encoded               0\n",
              "behavior_rating_encoded        0\n",
              "dtype: int64"
            ]
          },
          "metadata": {},
          "execution_count": 42
        }
      ]
    },
    {
      "cell_type": "code",
      "source": [
        "from sklearn.impute import KNNImputer\n",
        "from sklearn.compose import ColumnTransformer\n",
        "from sklearn.pipeline import Pipeline\n",
        "from sklearn.preprocessing import OneHotEncoder\n",
        "from sklearn.ensemble import RandomForestClassifier\n",
        "from sklearn.model_selection import train_test_split\n",
        "from sklearn.metrics import accuracy_score\n",
        "\n",
        "# Assuming your DataFrame is named 'df_no_outliers'\n",
        "# Replace 'df_no_outliers' with your actual DataFrame name if it's different\n",
        "\n",
        "# Selecting features and target variable\n",
        "X = data.drop(['player_id', 'name', 'selection'], axis=1)\n",
        "y = data['selection']\n",
        "\n",
        "# Separate numeric and categorical columns\n",
        "numeric_features = X.select_dtypes(include=['float64']).columns\n",
        "categorical_features = X.select_dtypes(include=['object']).columns\n",
        "\n",
        "# Create transformers\n",
        "numeric_transformer = Pipeline(steps=[\n",
        "    ('imputer', KNNImputer(n_neighbors=5))\n",
        "])\n",
        "\n",
        "categorical_transformer = Pipeline(steps=[\n",
        "    ('imputer', SimpleImputer(strategy='most_frequent')),\n",
        "    ('onehot', OneHotEncoder(handle_unknown='ignore'))\n",
        "])\n",
        "\n",
        "# Create preprocessor\n",
        "preprocessor = ColumnTransformer(\n",
        "    transformers=[\n",
        "        ('num', numeric_transformer, numeric_features),\n",
        "        ('cat', categorical_transformer, categorical_features)\n",
        "    ])\n",
        "\n",
        "# Initialize the RandomForestClassifier with the preprocessor in a pipeline\n",
        "model = Pipeline(steps=[('preprocessor', preprocessor),\n",
        "                        ('classifier', RandomForestClassifier(random_state=42))])\n",
        "\n",
        "# Split the data into training and testing sets\n",
        "X_train, X_test, y_train, y_test = train_test_split(X, y, test_size=0.2, random_state=42)\n",
        "\n",
        "# Train the model\n",
        "model.fit(X_train, y_train)\n",
        "\n",
        "# Make predictions on the test set\n",
        "predictions = model.predict(X_test)\n",
        "\n",
        "# Evaluate the model\n",
        "accuracy = accuracy_score(y_test, predictions)\n",
        "print(f'Model Accuracy: {accuracy}')\n"
      ],
      "metadata": {
        "colab": {
          "base_uri": "https://localhost:8080/"
        },
        "id": "sAYb5G3Q9o-a",
        "outputId": "cb2acad1-6e2d-4cdd-84c0-92905ca0cca8"
      },
      "execution_count": 43,
      "outputs": [
        {
          "output_type": "stream",
          "name": "stdout",
          "text": [
            "Model Accuracy: 0.8310110753840657\n"
          ]
        }
      ]
    },
    {
      "cell_type": "code",
      "source": [
        "data.isna().sum()"
      ],
      "metadata": {
        "colab": {
          "base_uri": "https://localhost:8080/"
        },
        "id": "Aa6UQqPi9xea",
        "outputId": "bdbbd5fd-894f-47e5-f79f-f6a6c386db9f"
      },
      "execution_count": 44,
      "outputs": [
        {
          "output_type": "execute_result",
          "data": {
            "text/plain": [
              "player_id                      0\n",
              "name                           0\n",
              "age                            0\n",
              "gender                        19\n",
              "country                        0\n",
              "height                         0\n",
              "weight                       417\n",
              "ball_controlling_skills      413\n",
              "body_reflexes                  0\n",
              "body_balance                   0\n",
              "jumping_skills                24\n",
              "penalties_conversion_rate     30\n",
              "mental_strength               28\n",
              "goalkeeping_skills             0\n",
              "defending_skills               0\n",
              "passing_skills                 0\n",
              "dribbling_skills               0\n",
              "shot_accuracy                572\n",
              "body_strength_stamina          0\n",
              "max_running_speed              0\n",
              "strong_foot                  552\n",
              "matches_played               666\n",
              "fitness_rating               695\n",
              "trophies_won                   0\n",
              "years_of_experience          144\n",
              "no_of_disqualifications        0\n",
              "selection                      0\n",
              "dedication_level_encoded       0\n",
              "coaching_encoded               0\n",
              "behavior_rating_encoded        0\n",
              "dtype: int64"
            ]
          },
          "metadata": {},
          "execution_count": 44
        }
      ]
    },
    {
      "cell_type": "code",
      "source": [
        "# Assuming your DataFrame is named 'df'\n",
        "# Replace 'df' with your actual DataFrame name if it's different\n",
        "\n",
        "# Drop rows with null values\n",
        "df_cleaned = data.dropna()\n",
        "\n",
        "# Print the number of rows before and after removing null values\n",
        "print(f\"Number of rows before removing null values: {len(data)}\")\n",
        "print(f\"Number of rows after removing null values: {len(df_cleaned)}\")\n"
      ],
      "metadata": {
        "colab": {
          "base_uri": "https://localhost:8080/"
        },
        "id": "8Ehb5n46-CI6",
        "outputId": "1b661fdb-d87e-45de-d762-ea14e50b4f5c"
      },
      "execution_count": 46,
      "outputs": [
        {
          "output_type": "stream",
          "name": "stdout",
          "text": [
            "Number of rows before removing null values: 13994\n",
            "Number of rows after removing null values: 10807\n"
          ]
        }
      ]
    },
    {
      "cell_type": "code",
      "source": [
        "# Drop rows with null values in specific columns\n",
        "columns_to_check = ['age', 'gender', 'country', 'ball_controlling_skills','jumping_skills','penalties_conversion_rate' ,'mental_strength' ,'shot_accuracy' ,'strong_foot','matches_played','fitness_rating','years_of_experience']  # List the columns you want to check\n",
        "df_cleaned_specific = data.dropna(subset=columns_to_check)\n",
        "\n",
        "# Print the number of rows before and after removing null values in specific columns\n",
        "print(f\"Number of rows before removing null values: {len(data)}\")\n",
        "print(f\"Number of rows after removing null values: {len(df_cleaned_specific)}\")\n"
      ],
      "metadata": {
        "colab": {
          "base_uri": "https://localhost:8080/"
        },
        "id": "5TXmsmmH-NdE",
        "outputId": "295e967e-1e93-4f62-e909-35a11c2b082d"
      },
      "execution_count": 48,
      "outputs": [
        {
          "output_type": "stream",
          "name": "stdout",
          "text": [
            "Number of rows before removing null values: 13994\n",
            "Number of rows after removing null values: 11128\n"
          ]
        }
      ]
    },
    {
      "cell_type": "code",
      "source": [
        "# Drop rows with null values in specific columns\n",
        "columns_to_check = ['age', 'gender', 'country','weight', 'ball_controlling_skills','jumping_skills','penalties_conversion_rate' ,'mental_strength' ,'shot_accuracy' ,'strong_foot','matches_played','fitness_rating','years_of_experience']  # List the columns you want to check\n",
        "df_cleaned_specific = data.dropna(subset=columns_to_check)\n",
        "\n",
        "# Print the number of rows before and after removing null values in specific columns\n",
        "print(f\"Number of rows before removing null values: {len(data)}\")\n",
        "print(f\"Number of rows after removing null values: {len(df_cleaned_specific)}\")"
      ],
      "metadata": {
        "colab": {
          "base_uri": "https://localhost:8080/"
        },
        "id": "p-3VL5Km__8H",
        "outputId": "b756cdbe-33c5-4919-f572-4e7018cd46cb"
      },
      "execution_count": 53,
      "outputs": [
        {
          "output_type": "stream",
          "name": "stdout",
          "text": [
            "Number of rows before removing null values: 13994\n",
            "Number of rows after removing null values: 10807\n"
          ]
        }
      ]
    },
    {
      "cell_type": "code",
      "source": [
        "df_cleaned_specific.isna().sum()\n"
      ],
      "metadata": {
        "colab": {
          "base_uri": "https://localhost:8080/"
        },
        "id": "Ut_G4_yL_h--",
        "outputId": "04278393-78ab-4154-9ce9-3d7d301ca5ad"
      },
      "execution_count": 54,
      "outputs": [
        {
          "output_type": "execute_result",
          "data": {
            "text/plain": [
              "player_id                    0\n",
              "name                         0\n",
              "age                          0\n",
              "gender                       0\n",
              "country                      0\n",
              "height                       0\n",
              "weight                       0\n",
              "ball_controlling_skills      0\n",
              "body_reflexes                0\n",
              "body_balance                 0\n",
              "jumping_skills               0\n",
              "penalties_conversion_rate    0\n",
              "mental_strength              0\n",
              "goalkeeping_skills           0\n",
              "defending_skills             0\n",
              "passing_skills               0\n",
              "dribbling_skills             0\n",
              "shot_accuracy                0\n",
              "body_strength_stamina        0\n",
              "max_running_speed            0\n",
              "strong_foot                  0\n",
              "matches_played               0\n",
              "fitness_rating               0\n",
              "trophies_won                 0\n",
              "years_of_experience          0\n",
              "no_of_disqualifications      0\n",
              "selection                    0\n",
              "dedication_level_encoded     0\n",
              "coaching_encoded             0\n",
              "behavior_rating_encoded      0\n",
              "dtype: int64"
            ]
          },
          "metadata": {},
          "execution_count": 54
        }
      ]
    },
    {
      "cell_type": "code",
      "source": [
        "data.isna().sum()"
      ],
      "metadata": {
        "colab": {
          "base_uri": "https://localhost:8080/"
        },
        "id": "P4JU04HL_X6G",
        "outputId": "44d1bff6-9da3-4f1d-8c18-529a0e14f26e"
      },
      "execution_count": 49,
      "outputs": [
        {
          "output_type": "execute_result",
          "data": {
            "text/plain": [
              "player_id                      0\n",
              "name                           0\n",
              "age                            0\n",
              "gender                        19\n",
              "country                        0\n",
              "height                         0\n",
              "weight                       417\n",
              "ball_controlling_skills      413\n",
              "body_reflexes                  0\n",
              "body_balance                   0\n",
              "jumping_skills                24\n",
              "penalties_conversion_rate     30\n",
              "mental_strength               28\n",
              "goalkeeping_skills             0\n",
              "defending_skills               0\n",
              "passing_skills                 0\n",
              "dribbling_skills               0\n",
              "shot_accuracy                572\n",
              "body_strength_stamina          0\n",
              "max_running_speed              0\n",
              "strong_foot                  552\n",
              "matches_played               666\n",
              "fitness_rating               695\n",
              "trophies_won                   0\n",
              "years_of_experience          144\n",
              "no_of_disqualifications        0\n",
              "selection                      0\n",
              "dedication_level_encoded       0\n",
              "coaching_encoded               0\n",
              "behavior_rating_encoded        0\n",
              "dtype: int64"
            ]
          },
          "metadata": {},
          "execution_count": 49
        }
      ]
    },
    {
      "cell_type": "code",
      "source": [
        "import pandas as pd\n",
        "from sklearn.model_selection import train_test_split\n",
        "from sklearn.ensemble import RandomForestClassifier\n",
        "from sklearn.metrics import accuracy_score\n",
        "from sklearn.compose import ColumnTransformer\n",
        "from sklearn.pipeline import Pipeline\n",
        "from sklearn.impute import SimpleImputer\n",
        "from sklearn.preprocessing import OneHotEncoder\n",
        "\n",
        "# Assuming your cleaned DataFrame is named 'df_cleaned'\n",
        "# Replace 'df_cleaned' with your actual DataFrame name if it's different\n",
        "\n",
        "# Selecting features and target variable\n",
        "X = df_cleaned.drop(['player_id', 'name', 'selection'], axis=1)\n",
        "y = df_cleaned['selection']\n",
        "\n",
        "# Separate numeric and categorical columns\n",
        "numeric_features = X.select_dtypes(include=['float64']).columns\n",
        "categorical_features = X.select_dtypes(include=['object']).columns\n",
        "\n",
        "# Create transformers\n",
        "numeric_transformer = Pipeline(steps=[\n",
        "    ('imputer', SimpleImputer(strategy='mean'))\n",
        "])\n",
        "\n",
        "categorical_transformer = Pipeline(steps=[\n",
        "    ('imputer', SimpleImputer(strategy='most_frequent')),\n",
        "    ('onehot', OneHotEncoder(handle_unknown='ignore'))\n",
        "])\n",
        "\n",
        "# Create preprocessor\n",
        "preprocessor = ColumnTransformer(\n",
        "    transformers=[\n",
        "        ('num', numeric_transformer, numeric_features),\n",
        "        ('cat', categorical_transformer, categorical_features)\n",
        "    ])\n",
        "\n",
        "# Initialize the RandomForestClassifier with the preprocessor in a pipeline\n",
        "model = Pipeline(steps=[('preprocessor', preprocessor),\n",
        "                        ('classifier', RandomForestClassifier(random_state=42))])\n",
        "\n",
        "# Split the data into training and testing sets\n",
        "X_train, X_test, y_train, y_test = train_test_split(X, y, test_size=0.2, random_state=42)\n",
        "\n",
        "# Train the model\n",
        "model.fit(X_train, y_train)\n",
        "\n",
        "# Make predictions on the test set\n",
        "predictions = model.predict(X_test)\n",
        "\n",
        "# Evaluate the model\n",
        "accuracy = accuracy_score(y_test, predictions)\n",
        "print(f'Model Accuracy: {accuracy}')\n"
      ],
      "metadata": {
        "colab": {
          "base_uri": "https://localhost:8080/"
        },
        "id": "ViPve7sNAtiF",
        "outputId": "496cdfa8-ac16-49eb-c929-56d163ba6ea1"
      },
      "execution_count": 56,
      "outputs": [
        {
          "output_type": "stream",
          "name": "stdout",
          "text": [
            "Model Accuracy: 0.8408880666049954\n"
          ]
        }
      ]
    }
  ]
}